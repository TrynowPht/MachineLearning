{
  "nbformat": 4,
  "nbformat_minor": 0,
  "metadata": {
    "colab": {
      "name": "TP_MachinLearning.ipynb",
      "provenance": [],
      "collapsed_sections": [],
      "toc_visible": true,
      "include_colab_link": true
    },
    "kernelspec": {
      "name": "python3",
      "display_name": "Python 3"
    },
    "widgets": {
      "application/vnd.jupyter.widget-state+json": {
        "3d6a29dbed804768971290674aad1f29": {
          "model_module": "@jupyter-widgets/controls",
          "model_name": "FileUploadModel",
          "state": {
            "_view_name": "FileUploadView",
            "_counter": 1,
            "style": "IPY_MODEL_f6c725f8370b4509af1d07d54d2d84c1",
            "_dom_classes": [],
            "description": "Upload",
            "multiple": false,
            "_model_name": "FileUploadModel",
            "data": [
              null
            ],
            "button_style": "",
            "_view_module": "@jupyter-widgets/controls",
            "_model_module_version": "1.5.0",
            "accept": "",
            "_view_count": null,
            "disabled": false,
            "_view_module_version": "1.5.0",
            "error": "",
            "description_tooltip": null,
            "metadata": [
              {
                "name": "datos_banco.csv",
                "type": "application/vnd.ms-excel",
                "size": 156252,
                "lastModified": 1601660327119
              }
            ],
            "_model_module": "@jupyter-widgets/controls",
            "layout": "IPY_MODEL_5e6a40391571439fa5eff20d8ce96b7f",
            "icon": "upload"
          }
        },
        "f6c725f8370b4509af1d07d54d2d84c1": {
          "model_module": "@jupyter-widgets/controls",
          "model_name": "ButtonStyleModel",
          "state": {
            "_view_name": "StyleView",
            "_model_name": "ButtonStyleModel",
            "_view_module": "@jupyter-widgets/base",
            "_model_module_version": "1.5.0",
            "_view_count": null,
            "button_color": null,
            "font_weight": "",
            "_view_module_version": "1.2.0",
            "_model_module": "@jupyter-widgets/controls"
          }
        },
        "5e6a40391571439fa5eff20d8ce96b7f": {
          "model_module": "@jupyter-widgets/base",
          "model_name": "LayoutModel",
          "state": {
            "_view_name": "LayoutView",
            "grid_template_rows": null,
            "right": null,
            "justify_content": null,
            "_view_module": "@jupyter-widgets/base",
            "overflow": null,
            "_model_module_version": "1.2.0",
            "_view_count": null,
            "flex_flow": null,
            "width": null,
            "min_width": null,
            "border": null,
            "align_items": null,
            "bottom": null,
            "_model_module": "@jupyter-widgets/base",
            "top": null,
            "grid_column": null,
            "overflow_y": null,
            "overflow_x": null,
            "grid_auto_flow": null,
            "grid_area": null,
            "grid_template_columns": null,
            "flex": null,
            "_model_name": "LayoutModel",
            "justify_items": null,
            "grid_row": null,
            "max_height": null,
            "align_content": null,
            "visibility": null,
            "align_self": null,
            "height": null,
            "min_height": null,
            "padding": null,
            "grid_auto_rows": null,
            "grid_gap": null,
            "max_width": null,
            "order": null,
            "_view_module_version": "1.2.0",
            "grid_template_areas": null,
            "object_position": null,
            "object_fit": null,
            "grid_auto_columns": null,
            "margin": null,
            "display": null,
            "left": null
          }
        }
      }
    }
  },
  "cells": [
    {
      "cell_type": "markdown",
      "metadata": {
        "id": "view-in-github",
        "colab_type": "text"
      },
      "source": [
        "<a href=\"https://colab.research.google.com/github/TrynowPht/MachineLearning/blob/master/TP_MachinLearning.ipynb\" target=\"_parent\"><img src=\"https://colab.research.google.com/assets/colab-badge.svg\" alt=\"Open In Colab\"/></a>"
      ]
    },
    {
      "cell_type": "code",
      "metadata": {
        "id": "Oy03SXMmAoBQ",
        "cellView": "both"
      },
      "source": [
        "#@title Importación de Librerías\n",
        "from ipywidgets import FileUpload\n",
        "import pandas as pd\n",
        "import missingno as msno\n",
        "import seaborn as sns\n",
        "%matplotlib inline"
      ],
      "execution_count": 3,
      "outputs": []
    },
    {
      "cell_type": "markdown",
      "metadata": {
        "id": "ywKgX9qbAjTC"
      },
      "source": [
        "### Lectura de la Data"
      ]
    },
    {
      "cell_type": "code",
      "metadata": {
        "id": "pMRrANImBN4t",
        "outputId": "04b02275-d1d0-47cb-ea18-cb9bf28bdc07",
        "colab": {
          "base_uri": "https://localhost:8080/",
          "height": 49,
          "referenced_widgets": [
            "3d6a29dbed804768971290674aad1f29",
            "f6c725f8370b4509af1d07d54d2d84c1",
            "5e6a40391571439fa5eff20d8ce96b7f"
          ]
        }
      },
      "source": [
        "DataSet = FileUpload()\n",
        "DataSet"
      ],
      "execution_count": 4,
      "outputs": [
        {
          "output_type": "display_data",
          "data": {
            "application/vnd.jupyter.widget-view+json": {
              "model_id": "3d6a29dbed804768971290674aad1f29",
              "version_minor": 0,
              "version_major": 2
            },
            "text/plain": [
              "FileUpload(value={}, description='Upload')"
            ]
          },
          "metadata": {
            "tags": []
          }
        }
      ]
    },
    {
      "cell_type": "code",
      "metadata": {
        "id": "6b37JmnLEdyj",
        "outputId": "8aa24b90-c588-46b2-9e90-68cc39883f8b",
        "colab": {
          "base_uri": "https://localhost:8080/",
          "height": 224
        }
      },
      "source": [
        "with open('datos_banco.csv', \"wb\") as fp:\n",
        "    fp.write(DataSet.data[0])\n",
        "df = pd.read_csv(\"datos_banco.csv\", engine='python')\n",
        "df.head(5)"
      ],
      "execution_count": 5,
      "outputs": [
        {
          "output_type": "execute_result",
          "data": {
            "text/html": [
              "<div>\n",
              "<style scoped>\n",
              "    .dataframe tbody tr th:only-of-type {\n",
              "        vertical-align: middle;\n",
              "    }\n",
              "\n",
              "    .dataframe tbody tr th {\n",
              "        vertical-align: top;\n",
              "    }\n",
              "\n",
              "    .dataframe thead th {\n",
              "        text-align: right;\n",
              "    }\n",
              "</style>\n",
              "<table border=\"1\" class=\"dataframe\">\n",
              "  <thead>\n",
              "    <tr style=\"text-align: right;\">\n",
              "      <th></th>\n",
              "      <th>idPrestamo</th>\n",
              "      <th>target</th>\n",
              "      <th>monthly_debt_capacity</th>\n",
              "      <th>var_employment_time_in_months</th>\n",
              "      <th>approved_amount</th>\n",
              "      <th>approved_term</th>\n",
              "      <th>approved_interest_amount</th>\n",
              "      <th>var_net_income</th>\n",
              "      <th>person_gender</th>\n",
              "      <th>credit_history_marital_status</th>\n",
              "      <th>var_max_sbs_qual_12m</th>\n",
              "      <th>person_degree_type_desc</th>\n",
              "      <th>default_request_term</th>\n",
              "      <th>default_request_amount</th>\n",
              "    </tr>\n",
              "  </thead>\n",
              "  <tbody>\n",
              "    <tr>\n",
              "      <th>0</th>\n",
              "      <td>LIBDISP9832897855</td>\n",
              "      <td>1</td>\n",
              "      <td>252.39</td>\n",
              "      <td>9.0</td>\n",
              "      <td>1,200</td>\n",
              "      <td>6</td>\n",
              "      <td>289.11</td>\n",
              "      <td>1140.125000</td>\n",
              "      <td>MALE</td>\n",
              "      <td>C</td>\n",
              "      <td>NORMAL</td>\n",
              "      <td>Secundaria</td>\n",
              "      <td>1</td>\n",
              "      <td>0</td>\n",
              "    </tr>\n",
              "    <tr>\n",
              "      <th>1</th>\n",
              "      <td>LIBDISP9021501745</td>\n",
              "      <td>1</td>\n",
              "      <td>244.57</td>\n",
              "      <td>50.0</td>\n",
              "      <td>2,200</td>\n",
              "      <td>12</td>\n",
              "      <td>696.15</td>\n",
              "      <td>1061.375000</td>\n",
              "      <td>FEMALE</td>\n",
              "      <td>S</td>\n",
              "      <td>NORMAL</td>\n",
              "      <td>Secundaria</td>\n",
              "      <td>0</td>\n",
              "      <td>0</td>\n",
              "    </tr>\n",
              "    <tr>\n",
              "      <th>2</th>\n",
              "      <td>LIBDISP4057314971</td>\n",
              "      <td>0</td>\n",
              "      <td>491.5</td>\n",
              "      <td>64.0</td>\n",
              "      <td>1,000</td>\n",
              "      <td>3</td>\n",
              "      <td>84.99</td>\n",
              "      <td>2082.196667</td>\n",
              "      <td>FEMALE</td>\n",
              "      <td>S</td>\n",
              "      <td>NORMAL</td>\n",
              "      <td>Secundaria</td>\n",
              "      <td>0</td>\n",
              "      <td>0</td>\n",
              "    </tr>\n",
              "    <tr>\n",
              "      <th>3</th>\n",
              "      <td>LIBDISP8375185888</td>\n",
              "      <td>0</td>\n",
              "      <td>848.65</td>\n",
              "      <td>77.0</td>\n",
              "      <td>1,500</td>\n",
              "      <td>6</td>\n",
              "      <td>221.53</td>\n",
              "      <td>3422.423333</td>\n",
              "      <td>MALE</td>\n",
              "      <td>S</td>\n",
              "      <td>NORMAL</td>\n",
              "      <td>Universitaria</td>\n",
              "      <td>0</td>\n",
              "      <td>0</td>\n",
              "    </tr>\n",
              "    <tr>\n",
              "      <th>4</th>\n",
              "      <td>LIBDISP9694463037</td>\n",
              "      <td>0</td>\n",
              "      <td>470.52</td>\n",
              "      <td>82.0</td>\n",
              "      <td>1,000</td>\n",
              "      <td>3</td>\n",
              "      <td>91.34</td>\n",
              "      <td>1882.090000</td>\n",
              "      <td>FEMALE</td>\n",
              "      <td>S</td>\n",
              "      <td>NORMAL</td>\n",
              "      <td>Universitaria</td>\n",
              "      <td>1</td>\n",
              "      <td>0</td>\n",
              "    </tr>\n",
              "  </tbody>\n",
              "</table>\n",
              "</div>"
            ],
            "text/plain": [
              "          idPrestamo  target  ... default_request_term  default_request_amount\n",
              "0  LIBDISP9832897855       1  ...                    1                       0\n",
              "1  LIBDISP9021501745       1  ...                    0                       0\n",
              "2  LIBDISP4057314971       0  ...                    0                       0\n",
              "3  LIBDISP8375185888       0  ...                    0                       0\n",
              "4  LIBDISP9694463037       0  ...                    1                       0\n",
              "\n",
              "[5 rows x 14 columns]"
            ]
          },
          "metadata": {
            "tags": []
          },
          "execution_count": 5
        }
      ]
    },
    {
      "cell_type": "markdown",
      "metadata": {
        "id": "O8iDBh85umDx"
      },
      "source": [
        "# 1. Análisis Exploratorio"
      ]
    },
    {
      "cell_type": "markdown",
      "metadata": {
        "id": "J8hukOUUj2uC"
      },
      "source": [
        "## 1.1 Cantidad de variables y atributos"
      ]
    },
    {
      "cell_type": "code",
      "metadata": {
        "id": "fRbZm3TzHvaY",
        "outputId": "7fd9c7d6-74ae-4efe-e102-532f9a303fa0",
        "colab": {
          "base_uri": "https://localhost:8080/",
          "height": 51
        }
      },
      "source": [
        "print('Cantidad de instancias:',df.shape[0])\n",
        "print('Cantidad de atributos:',df.shape[1])"
      ],
      "execution_count": 6,
      "outputs": [
        {
          "output_type": "stream",
          "text": [
            "Cantidad de instancias: 1719\n",
            "Cantidad de atributos: 14\n"
          ],
          "name": "stdout"
        }
      ]
    },
    {
      "cell_type": "markdown",
      "metadata": {
        "id": "ib9aOa2rSLnE"
      },
      "source": [
        "## 1.2 Valores nulos\n",
        "\n",
        "En el siguiente gráfico podemos ver la existencia de valores nulos a lo largo de cada instancia, como resultado podemos observar que solo el atributo ***var_employment_time_in_month*** contiene valores nulos."
      ]
    },
    {
      "cell_type": "code",
      "metadata": {
        "id": "2gvUvvwym3Fs",
        "outputId": "52ad3a2b-fe07-479b-e7d6-2a46e36fe16c",
        "colab": {
          "base_uri": "https://localhost:8080/",
          "height": 470
        }
      },
      "source": [
        "msno.matrix(df, figsize=(10,4));"
      ],
      "execution_count": 7,
      "outputs": [
        {
          "output_type": "display_data",
          "data": {
            "image/png": "[encoded data removed]",
            "text/plain": [
              "<Figure size 720x288 with 2 Axes>"
            ]
          },
          "metadata": {
            "tags": [],
            "needs_background": "light"
          }
        }
      ]
    },
    {
      "cell_type": "code",
      "metadata": {
        "id": "3S1rLaAqAP6B",
        "outputId": "2388c0d4-0410-48d7-9735-c9a3e6f6db44",
        "colab": {
          "base_uri": "https://localhost:8080/",
          "height": 163
        }
      },
      "source": [
        "msno.bar(df) "
      ],
      "execution_count": 1,
      "outputs": [
        {
          "output_type": "error",
          "ename": "NameError",
          "evalue": "ignored",
          "traceback": [
            "\u001b[0;31m---------------------------------------------------------------------------\u001b[0m",
            "\u001b[0;31mNameError\u001b[0m                                 Traceback (most recent call last)",
            "\u001b[0;32m<ipython-input-1-11ffd81055e3>\u001b[0m in \u001b[0;36m<module>\u001b[0;34m()\u001b[0m\n\u001b[0;32m----> 1\u001b[0;31m \u001b[0mmsno\u001b[0m\u001b[0;34m.\u001b[0m\u001b[0mbar\u001b[0m\u001b[0;34m(\u001b[0m\u001b[0mdf\u001b[0m\u001b[0;34m)\u001b[0m\u001b[0;34m\u001b[0m\u001b[0;34m\u001b[0m\u001b[0m\n\u001b[0m",
            "\u001b[0;31mNameError\u001b[0m: name 'msno' is not defined"
          ]
        }
      ]
    },
    {
      "cell_type": "markdown",
      "metadata": {
        "id": "r6LX0yPImhFi"
      },
      "source": [
        "Obtenemos la cantidad exacta de valores nulos en el dataframe, podemos concluir que la proporción de datos nulos es bastante ***reducida***."
      ]
    },
    {
      "cell_type": "code",
      "metadata": {
        "id": "o1mzvLogmd2Z",
        "outputId": "da8f1216-298b-4265-b371-920a0006bb50",
        "colab": {
          "base_uri": "https://localhost:8080/",
          "height": 272
        }
      },
      "source": [
        "df.isna().sum()"
      ],
      "execution_count": null,
      "outputs": [
        {
          "output_type": "execute_result",
          "data": {
            "text/plain": [
              "idPrestamo                         0\n",
              "target                             0\n",
              "monthly_debt_capacity              0\n",
              "var_employment_time_in_months    200\n",
              "approved_amount                    0\n",
              "approved_term                      0\n",
              "approved_interest_amount           0\n",
              "var_net_income                     0\n",
              "person_gender                      0\n",
              "credit_history_marital_status      0\n",
              "var_max_sbs_qual_12m               0\n",
              "person_degree_type_desc            0\n",
              "default_request_term               0\n",
              "default_request_amount             0\n",
              "dtype: int64"
            ]
          },
          "metadata": {
            "tags": []
          },
          "execution_count": 35
        }
      ]
    },
    {
      "cell_type": "markdown",
      "metadata": {
        "id": "T9tEVjsgjwKV"
      },
      "source": [
        "## 1.3 Atributos\n",
        "\n",
        "A continuación, podemos observar la lista de atributos del dataset, junto con su tipo de dato. Además, podemos determinar el conjunto de atributos que podrían aportar valor significativo a nuestro modelo y aquellos que no.\n",
        "\n"
      ]
    },
    {
      "cell_type": "code",
      "metadata": {
        "id": "mvzbyVOMcUbP",
        "outputId": "5c3cdf3b-bd58-4dde-c19b-928324d11ab6",
        "colab": {
          "base_uri": "https://localhost:8080/",
          "height": 272
        }
      },
      "source": [
        "df.dtypes"
      ],
      "execution_count": null,
      "outputs": [
        {
          "output_type": "execute_result",
          "data": {
            "text/plain": [
              "idPrestamo                        object\n",
              "target                             int64\n",
              "monthly_debt_capacity             object\n",
              "var_employment_time_in_months    float64\n",
              "approved_amount                   object\n",
              "approved_term                      int64\n",
              "approved_interest_amount          object\n",
              "var_net_income                   float64\n",
              "person_gender                     object\n",
              "credit_history_marital_status     object\n",
              "var_max_sbs_qual_12m              object\n",
              "person_degree_type_desc           object\n",
              "default_request_term               int64\n",
              "default_request_amount             int64\n",
              "dtype: object"
            ]
          },
          "metadata": {
            "tags": []
          },
          "execution_count": 36
        }
      ]
    },
    {
      "cell_type": "code",
      "metadata": {
        "id": "mqTw9nMhl2ge",
        "outputId": "539c83b7-88e8-41de-f88a-14c749ec9a49",
        "colab": {
          "base_uri": "https://localhost:8080/",
          "height": 297
        }
      },
      "source": [
        "df.describe()"
      ],
      "execution_count": null,
      "outputs": [
        {
          "output_type": "execute_result",
          "data": {
            "text/html": [
              "<div>\n",
              "<style scoped>\n",
              "    .dataframe tbody tr th:only-of-type {\n",
              "        vertical-align: middle;\n",
              "    }\n",
              "\n",
              "    .dataframe tbody tr th {\n",
              "        vertical-align: top;\n",
              "    }\n",
              "\n",
              "    .dataframe thead th {\n",
              "        text-align: right;\n",
              "    }\n",
              "</style>\n",
              "<table border=\"1\" class=\"dataframe\">\n",
              "  <thead>\n",
              "    <tr style=\"text-align: right;\">\n",
              "      <th></th>\n",
              "      <th>target</th>\n",
              "      <th>var_employment_time_in_months</th>\n",
              "      <th>approved_term</th>\n",
              "      <th>var_net_income</th>\n",
              "      <th>default_request_term</th>\n",
              "      <th>default_request_amount</th>\n",
              "    </tr>\n",
              "  </thead>\n",
              "  <tbody>\n",
              "    <tr>\n",
              "      <th>count</th>\n",
              "      <td>1719.000000</td>\n",
              "      <td>1519.000000</td>\n",
              "      <td>1719.000000</td>\n",
              "      <td>1719.000000</td>\n",
              "      <td>1719.000000</td>\n",
              "      <td>1719.0</td>\n",
              "    </tr>\n",
              "    <tr>\n",
              "      <th>mean</th>\n",
              "      <td>0.295521</td>\n",
              "      <td>33.979592</td>\n",
              "      <td>6.464805</td>\n",
              "      <td>2693.545884</td>\n",
              "      <td>0.507853</td>\n",
              "      <td>0.0</td>\n",
              "    </tr>\n",
              "    <tr>\n",
              "      <th>std</th>\n",
              "      <td>0.456409</td>\n",
              "      <td>26.889423</td>\n",
              "      <td>3.009842</td>\n",
              "      <td>1825.694773</td>\n",
              "      <td>0.500084</td>\n",
              "      <td>0.0</td>\n",
              "    </tr>\n",
              "    <tr>\n",
              "      <th>min</th>\n",
              "      <td>0.000000</td>\n",
              "      <td>-1.000000</td>\n",
              "      <td>1.000000</td>\n",
              "      <td>0.000000</td>\n",
              "      <td>0.000000</td>\n",
              "      <td>0.0</td>\n",
              "    </tr>\n",
              "    <tr>\n",
              "      <th>25%</th>\n",
              "      <td>0.000000</td>\n",
              "      <td>11.000000</td>\n",
              "      <td>6.000000</td>\n",
              "      <td>1750.000000</td>\n",
              "      <td>0.000000</td>\n",
              "      <td>0.0</td>\n",
              "    </tr>\n",
              "    <tr>\n",
              "      <th>50%</th>\n",
              "      <td>0.000000</td>\n",
              "      <td>26.000000</td>\n",
              "      <td>6.000000</td>\n",
              "      <td>2373.758333</td>\n",
              "      <td>1.000000</td>\n",
              "      <td>0.0</td>\n",
              "    </tr>\n",
              "    <tr>\n",
              "      <th>75%</th>\n",
              "      <td>1.000000</td>\n",
              "      <td>61.000000</td>\n",
              "      <td>6.000000</td>\n",
              "      <td>3075.133333</td>\n",
              "      <td>1.000000</td>\n",
              "      <td>0.0</td>\n",
              "    </tr>\n",
              "    <tr>\n",
              "      <th>max</th>\n",
              "      <td>1.000000</td>\n",
              "      <td>87.000000</td>\n",
              "      <td>12.000000</td>\n",
              "      <td>28587.000000</td>\n",
              "      <td>1.000000</td>\n",
              "      <td>0.0</td>\n",
              "    </tr>\n",
              "  </tbody>\n",
              "</table>\n",
              "</div>"
            ],
            "text/plain": [
              "            target  ...  default_request_amount\n",
              "count  1719.000000  ...                  1719.0\n",
              "mean      0.295521  ...                     0.0\n",
              "std       0.456409  ...                     0.0\n",
              "min       0.000000  ...                     0.0\n",
              "25%       0.000000  ...                     0.0\n",
              "50%       0.000000  ...                     0.0\n",
              "75%       1.000000  ...                     0.0\n",
              "max       1.000000  ...                     0.0\n",
              "\n",
              "[8 rows x 6 columns]"
            ]
          },
          "metadata": {
            "tags": []
          },
          "execution_count": 27
        }
      ]
    },
    {
      "cell_type": "code",
      "metadata": {
        "id": "aP9_QskXxZ3z",
        "outputId": "08716e8b-6f9c-4b94-903f-35c03aa41240",
        "colab": {
          "base_uri": "https://localhost:8080/",
          "height": 607
        }
      },
      "source": [
        "df.hist(figsize=(10,10));"
      ],
      "execution_count": null,
      "outputs": [
        {
          "output_type": "display_data",
          "data": {
            "image/png": "[encoded data removed]",
            "text/plain": [
              "<Figure size 720x720 with 6 Axes>"
            ]
          },
          "metadata": {
            "tags": [],
            "needs_background": "light"
          }
        }
      ]
    },
    {
      "cell_type": "markdown",
      "metadata": {
        "id": "s8xdPwWL6YNW"
      },
      "source": [
        "### 1.3.1 Descartando atributos\n",
        "\n",
        "Luego del análisis de variables, podemos descartar algunas que no aportarían valor a nuestro modelo. Estas son:\n",
        "\n",
        "1.   **idPrestamo**: Identificador de Préstamo\n",
        "2.   **person_gender**: Género de la persona que solicito el préstamo\n",
        "3. **default_request_amount**: Si escogio el monto de dinero ofrecido (según muestra el histograma anterior, todos los valores son 0)\n"
      ]
    },
    {
      "cell_type": "code",
      "metadata": {
        "id": "GPmjq4Ph59Up",
        "outputId": "ab36c0d5-4d9a-4aa0-a433-2e136e40df8b",
        "colab": {
          "base_uri": "https://localhost:8080/",
          "height": 689
        }
      },
      "source": [
        "df = df.drop([\"idPrestamo\", \"person_gender\", \"default_request_amount\"], axis=1)\n",
        "df.tail(20)"
      ],
      "execution_count": null,
      "outputs": [
        {
          "output_type": "execute_result",
          "data": {
            "text/html": [
              "<div>\n",
              "<style scoped>\n",
              "    .dataframe tbody tr th:only-of-type {\n",
              "        vertical-align: middle;\n",
              "    }\n",
              "\n",
              "    .dataframe tbody tr th {\n",
              "        vertical-align: top;\n",
              "    }\n",
              "\n",
              "    .dataframe thead th {\n",
              "        text-align: right;\n",
              "    }\n",
              "</style>\n",
              "<table border=\"1\" class=\"dataframe\">\n",
              "  <thead>\n",
              "    <tr style=\"text-align: right;\">\n",
              "      <th></th>\n",
              "      <th>target</th>\n",
              "      <th>monthly_debt_capacity</th>\n",
              "      <th>var_employment_time_in_months</th>\n",
              "      <th>approved_amount</th>\n",
              "      <th>approved_term</th>\n",
              "      <th>approved_interest_amount</th>\n",
              "      <th>var_net_income</th>\n",
              "      <th>credit_history_marital_status</th>\n",
              "      <th>var_max_sbs_qual_12m</th>\n",
              "      <th>person_degree_type_desc</th>\n",
              "      <th>default_request_term</th>\n",
              "    </tr>\n",
              "  </thead>\n",
              "  <tbody>\n",
              "    <tr>\n",
              "      <th>1699</th>\n",
              "      <td>0</td>\n",
              "      <td>543.61</td>\n",
              "      <td>57.0</td>\n",
              "      <td>1,500</td>\n",
              "      <td>6</td>\n",
              "      <td>221.53</td>\n",
              "      <td>2174.433333</td>\n",
              "      <td>S</td>\n",
              "      <td>NORMAL</td>\n",
              "      <td>Universitaria</td>\n",
              "      <td>1</td>\n",
              "    </tr>\n",
              "    <tr>\n",
              "      <th>1700</th>\n",
              "      <td>1</td>\n",
              "      <td>300.33</td>\n",
              "      <td>10.0</td>\n",
              "      <td>1,400</td>\n",
              "      <td>6</td>\n",
              "      <td>207.69</td>\n",
              "      <td>1414.000000</td>\n",
              "      <td>S</td>\n",
              "      <td>NORMAL</td>\n",
              "      <td>Carrera T���cnica</td>\n",
              "      <td>1</td>\n",
              "    </tr>\n",
              "    <tr>\n",
              "      <th>1701</th>\n",
              "      <td>0</td>\n",
              "      <td>230.76</td>\n",
              "      <td>8.0</td>\n",
              "      <td>600</td>\n",
              "      <td>3</td>\n",
              "      <td>80.13</td>\n",
              "      <td>1050.000000</td>\n",
              "      <td>S</td>\n",
              "      <td>NORMAL</td>\n",
              "      <td>Carrera T���cnica</td>\n",
              "      <td>0</td>\n",
              "    </tr>\n",
              "    <tr>\n",
              "      <th>1702</th>\n",
              "      <td>1</td>\n",
              "      <td>1,214.79</td>\n",
              "      <td>6.0</td>\n",
              "      <td>3,000</td>\n",
              "      <td>6</td>\n",
              "      <td>429.99</td>\n",
              "      <td>5346.058333</td>\n",
              "      <td>S</td>\n",
              "      <td>NORMAL</td>\n",
              "      <td>Universitaria</td>\n",
              "      <td>1</td>\n",
              "    </tr>\n",
              "    <tr>\n",
              "      <th>1703</th>\n",
              "      <td>0</td>\n",
              "      <td>211.15</td>\n",
              "      <td>72.0</td>\n",
              "      <td>1,900</td>\n",
              "      <td>12</td>\n",
              "      <td>545.27</td>\n",
              "      <td>1649.375000</td>\n",
              "      <td>S</td>\n",
              "      <td>NORMAL</td>\n",
              "      <td>Universitaria</td>\n",
              "      <td>0</td>\n",
              "    </tr>\n",
              "    <tr>\n",
              "      <th>1704</th>\n",
              "      <td>0</td>\n",
              "      <td>250.7</td>\n",
              "      <td>27.0</td>\n",
              "      <td>1,200</td>\n",
              "      <td>6</td>\n",
              "      <td>289.11</td>\n",
              "      <td>1312.500000</td>\n",
              "      <td>S</td>\n",
              "      <td>NORMAL</td>\n",
              "      <td>Universitaria</td>\n",
              "      <td>1</td>\n",
              "    </tr>\n",
              "    <tr>\n",
              "      <th>1705</th>\n",
              "      <td>1</td>\n",
              "      <td>506.06</td>\n",
              "      <td>19.0</td>\n",
              "      <td>1,500</td>\n",
              "      <td>6</td>\n",
              "      <td>281.39</td>\n",
              "      <td>2382.356667</td>\n",
              "      <td>S</td>\n",
              "      <td>NORMAL</td>\n",
              "      <td>Carrera T���cnica</td>\n",
              "      <td>1</td>\n",
              "    </tr>\n",
              "    <tr>\n",
              "      <th>1706</th>\n",
              "      <td>0</td>\n",
              "      <td>225</td>\n",
              "      <td>2.0</td>\n",
              "      <td>1,000</td>\n",
              "      <td>6</td>\n",
              "      <td>152.32</td>\n",
              "      <td>6553.805000</td>\n",
              "      <td>C</td>\n",
              "      <td>NORMAL</td>\n",
              "      <td>Carrera T���cnica</td>\n",
              "      <td>1</td>\n",
              "    </tr>\n",
              "    <tr>\n",
              "      <th>1707</th>\n",
              "      <td>1</td>\n",
              "      <td>479.29</td>\n",
              "      <td>82.0</td>\n",
              "      <td>1,000</td>\n",
              "      <td>3</td>\n",
              "      <td>91.9</td>\n",
              "      <td>2082.500000</td>\n",
              "      <td>S</td>\n",
              "      <td>NORMAL</td>\n",
              "      <td>Secundaria</td>\n",
              "      <td>1</td>\n",
              "    </tr>\n",
              "    <tr>\n",
              "      <th>1708</th>\n",
              "      <td>0</td>\n",
              "      <td>377.84</td>\n",
              "      <td>43.0</td>\n",
              "      <td>1,900</td>\n",
              "      <td>6</td>\n",
              "      <td>356.42</td>\n",
              "      <td>1575.000000</td>\n",
              "      <td>S</td>\n",
              "      <td>CPP</td>\n",
              "      <td>Universitaria</td>\n",
              "      <td>0</td>\n",
              "    </tr>\n",
              "    <tr>\n",
              "      <th>1709</th>\n",
              "      <td>0</td>\n",
              "      <td>1,306.50</td>\n",
              "      <td>73.0</td>\n",
              "      <td>8,000</td>\n",
              "      <td>12</td>\n",
              "      <td>2,131.81</td>\n",
              "      <td>4988.090000</td>\n",
              "      <td>S</td>\n",
              "      <td>CPP</td>\n",
              "      <td>Universitaria</td>\n",
              "      <td>0</td>\n",
              "    </tr>\n",
              "    <tr>\n",
              "      <th>1710</th>\n",
              "      <td>1</td>\n",
              "      <td>681.49</td>\n",
              "      <td>29.0</td>\n",
              "      <td>2,500</td>\n",
              "      <td>6</td>\n",
              "      <td>360.78</td>\n",
              "      <td>2725.968333</td>\n",
              "      <td>C</td>\n",
              "      <td>NORMAL</td>\n",
              "      <td>Secundaria</td>\n",
              "      <td>1</td>\n",
              "    </tr>\n",
              "    <tr>\n",
              "      <th>1711</th>\n",
              "      <td>1</td>\n",
              "      <td>629.17</td>\n",
              "      <td>77.0</td>\n",
              "      <td>2,500</td>\n",
              "      <td>6</td>\n",
              "      <td>360.78</td>\n",
              "      <td>2526.965000</td>\n",
              "      <td>C</td>\n",
              "      <td>NORMAL</td>\n",
              "      <td>Carrera T���cnica</td>\n",
              "      <td>0</td>\n",
              "    </tr>\n",
              "    <tr>\n",
              "      <th>1712</th>\n",
              "      <td>1</td>\n",
              "      <td>772.52</td>\n",
              "      <td>NaN</td>\n",
              "      <td>6,000</td>\n",
              "      <td>12</td>\n",
              "      <td>1,403.78</td>\n",
              "      <td>2616.075000</td>\n",
              "      <td>S</td>\n",
              "      <td>CPP</td>\n",
              "      <td>Carrera T���cnica</td>\n",
              "      <td>0</td>\n",
              "    </tr>\n",
              "    <tr>\n",
              "      <th>1713</th>\n",
              "      <td>0</td>\n",
              "      <td>570.8</td>\n",
              "      <td>64.0</td>\n",
              "      <td>2,900</td>\n",
              "      <td>6</td>\n",
              "      <td>398.44</td>\n",
              "      <td>1986.833333</td>\n",
              "      <td>S</td>\n",
              "      <td>NORMAL</td>\n",
              "      <td>Postgrado</td>\n",
              "      <td>1</td>\n",
              "    </tr>\n",
              "    <tr>\n",
              "      <th>1714</th>\n",
              "      <td>0</td>\n",
              "      <td>617.02</td>\n",
              "      <td>4.0</td>\n",
              "      <td>5,000</td>\n",
              "      <td>12</td>\n",
              "      <td>1,515.20</td>\n",
              "      <td>2143.166667</td>\n",
              "      <td>S</td>\n",
              "      <td>CPP</td>\n",
              "      <td>Carrera T���cnica</td>\n",
              "      <td>0</td>\n",
              "    </tr>\n",
              "    <tr>\n",
              "      <th>1715</th>\n",
              "      <td>0</td>\n",
              "      <td>250.69</td>\n",
              "      <td>74.0</td>\n",
              "      <td>1,200</td>\n",
              "      <td>6</td>\n",
              "      <td>179.92</td>\n",
              "      <td>2204.136667</td>\n",
              "      <td>S</td>\n",
              "      <td>NORMAL</td>\n",
              "      <td>Postgrado</td>\n",
              "      <td>1</td>\n",
              "    </tr>\n",
              "    <tr>\n",
              "      <th>1716</th>\n",
              "      <td>0</td>\n",
              "      <td>692.13</td>\n",
              "      <td>56.0</td>\n",
              "      <td>2,500</td>\n",
              "      <td>6</td>\n",
              "      <td>360.78</td>\n",
              "      <td>2768.500000</td>\n",
              "      <td>S</td>\n",
              "      <td>NORMAL</td>\n",
              "      <td>Universitaria</td>\n",
              "      <td>0</td>\n",
              "    </tr>\n",
              "    <tr>\n",
              "      <th>1717</th>\n",
              "      <td>0</td>\n",
              "      <td>410.28</td>\n",
              "      <td>80.0</td>\n",
              "      <td>900</td>\n",
              "      <td>3</td>\n",
              "      <td>79.89</td>\n",
              "      <td>2139.258333</td>\n",
              "      <td>S</td>\n",
              "      <td>NORMAL</td>\n",
              "      <td>Carrera T���cnica</td>\n",
              "      <td>1</td>\n",
              "    </tr>\n",
              "    <tr>\n",
              "      <th>1718</th>\n",
              "      <td>0</td>\n",
              "      <td>480.74</td>\n",
              "      <td>12.0</td>\n",
              "      <td>1,000</td>\n",
              "      <td>3</td>\n",
              "      <td>84.99</td>\n",
              "      <td>2083.330000</td>\n",
              "      <td>S</td>\n",
              "      <td>NORMAL</td>\n",
              "      <td>Universitaria</td>\n",
              "      <td>0</td>\n",
              "    </tr>\n",
              "  </tbody>\n",
              "</table>\n",
              "</div>"
            ],
            "text/plain": [
              "      target  ... default_request_term\n",
              "1699       0  ...                    1\n",
              "1700       1  ...                    1\n",
              "1701       0  ...                    0\n",
              "1702       1  ...                    1\n",
              "1703       0  ...                    0\n",
              "1704       0  ...                    1\n",
              "1705       1  ...                    1\n",
              "1706       0  ...                    1\n",
              "1707       1  ...                    1\n",
              "1708       0  ...                    0\n",
              "1709       0  ...                    0\n",
              "1710       1  ...                    1\n",
              "1711       1  ...                    0\n",
              "1712       1  ...                    0\n",
              "1713       0  ...                    1\n",
              "1714       0  ...                    0\n",
              "1715       0  ...                    1\n",
              "1716       0  ...                    0\n",
              "1717       0  ...                    1\n",
              "1718       0  ...                    0\n",
              "\n",
              "[20 rows x 11 columns]"
            ]
          },
          "metadata": {
            "tags": []
          },
          "execution_count": 37
        }
      ]
    },
    {
      "cell_type": "code",
      "metadata": {
        "id": "X3hapLWP7gx2",
        "outputId": "48f9e9b1-1243-4d6e-905b-41c761bd8e7a",
        "colab": {
          "base_uri": "https://localhost:8080/",
          "height": 238
        }
      },
      "source": [
        "print('Nueva cantidad de atributos:',df.shape[1])\n",
        "print(df.dtypes)"
      ],
      "execution_count": null,
      "outputs": [
        {
          "output_type": "stream",
          "text": [
            "Nueva cantidad de atributos: 11\n",
            "target                             int64\n",
            "monthly_debt_capacity             object\n",
            "var_employment_time_in_months    float64\n",
            "approved_amount                   object\n",
            "approved_term                      int64\n",
            "approved_interest_amount          object\n",
            "var_net_income                   float64\n",
            "credit_history_marital_status     object\n",
            "var_max_sbs_qual_12m              object\n",
            "person_degree_type_desc           object\n",
            "default_request_term               int64\n",
            "dtype: object\n"
          ],
          "name": "stdout"
        }
      ]
    },
    {
      "cell_type": "markdown",
      "metadata": {
        "id": "-5LNcOWghTrs"
      },
      "source": [
        "## 1.4 Atributo Clase\n",
        " "
      ]
    },
    {
      "cell_type": "markdown",
      "metadata": {
        "id": "yQibXZ5QdD8y"
      },
      "source": [
        "En el siguiente gráfico podemos observar la proporción de instancias del atributo clase del dataset (***target***)"
      ]
    },
    {
      "cell_type": "code",
      "metadata": {
        "id": "awHuv-UxdPwE",
        "outputId": "8d543e06-bb8b-494b-e409-954e8a6cd339",
        "colab": {
          "base_uri": "https://localhost:8080/",
          "height": 303
        }
      },
      "source": [
        "df.groupby(['target']).size().plot(kind='pie', legend=True, figsize = (5,5), labels=['0 (No mora)', '1 (Mora)'], autopct='%1.1f%%', shadow=True, textprops={'color':\"w\", 'weight':\"bold\"});"
      ],
      "execution_count": null,
      "outputs": [
        {
          "output_type": "display_data",
          "data": {
            "image/png": "[encoded data removed]",
            "text/plain": [
              "<Figure size 360x360 with 1 Axes>"
            ]
          },
          "metadata": {
            "tags": []
          }
        }
      ]
    },
    {
      "cell_type": "markdown",
      "metadata": {
        "id": "3avinPIRJllB"
      },
      "source": [
        "## 2.0 Tratamiento de Datos\n",
        "\n",
        "La función sklearn.impute.SimpleImputer permite sustituir valores nulos por otros valores según varias estrategias disponibles. La estrategia a ejecutar se indica mediante el parámetro strategy.\n",
        "\n",
        "En este caso el atributo var_employment_time_in_months tenia valores NA la estrategia es sustituir los valores nulos por el valor medio de las características\n",
        "\n"
      ]
    },
    {
      "cell_type": "code",
      "metadata": {
        "id": "Lb9zPViiJj-q",
        "outputId": "63507eef-1467-4a7f-f0a3-02e2ef95cecd",
        "colab": {
          "base_uri": "https://localhost:8080/",
          "height": 297
        }
      },
      "source": [
        "from sklearn.impute import SimpleImputer\n",
        "dcv = df\n",
        "si = SimpleImputer()\n",
        "\n",
        "dcv[\"var_employment_time_in_months\"] = si.fit_transform(dcv[\"var_employment_time_in_months\"].values.reshape(-1, 1))\n",
        "\n",
        "#dcv.head(11)\n",
        "dcv.describe()\n",
        "\n"
      ],
      "execution_count": null,
      "outputs": [
        {
          "output_type": "execute_result",
          "data": {
            "text/html": [
              "<div>\n",
              "<style scoped>\n",
              "    .dataframe tbody tr th:only-of-type {\n",
              "        vertical-align: middle;\n",
              "    }\n",
              "\n",
              "    .dataframe tbody tr th {\n",
              "        vertical-align: top;\n",
              "    }\n",
              "\n",
              "    .dataframe thead th {\n",
              "        text-align: right;\n",
              "    }\n",
              "</style>\n",
              "<table border=\"1\" class=\"dataframe\">\n",
              "  <thead>\n",
              "    <tr style=\"text-align: right;\">\n",
              "      <th></th>\n",
              "      <th>target</th>\n",
              "      <th>var_employment_time_in_months</th>\n",
              "      <th>approved_term</th>\n",
              "      <th>var_net_income</th>\n",
              "      <th>default_request_term</th>\n",
              "    </tr>\n",
              "  </thead>\n",
              "  <tbody>\n",
              "    <tr>\n",
              "      <th>count</th>\n",
              "      <td>1719.000000</td>\n",
              "      <td>1719.000000</td>\n",
              "      <td>1719.000000</td>\n",
              "      <td>1719.000000</td>\n",
              "      <td>1719.000000</td>\n",
              "    </tr>\n",
              "    <tr>\n",
              "      <th>mean</th>\n",
              "      <td>0.295521</td>\n",
              "      <td>33.979592</td>\n",
              "      <td>6.464805</td>\n",
              "      <td>2693.545884</td>\n",
              "      <td>0.507853</td>\n",
              "    </tr>\n",
              "    <tr>\n",
              "      <th>std</th>\n",
              "      <td>0.456409</td>\n",
              "      <td>25.275851</td>\n",
              "      <td>3.009842</td>\n",
              "      <td>1825.694773</td>\n",
              "      <td>0.500084</td>\n",
              "    </tr>\n",
              "    <tr>\n",
              "      <th>min</th>\n",
              "      <td>0.000000</td>\n",
              "      <td>-1.000000</td>\n",
              "      <td>1.000000</td>\n",
              "      <td>0.000000</td>\n",
              "      <td>0.000000</td>\n",
              "    </tr>\n",
              "    <tr>\n",
              "      <th>25%</th>\n",
              "      <td>0.000000</td>\n",
              "      <td>12.000000</td>\n",
              "      <td>6.000000</td>\n",
              "      <td>1750.000000</td>\n",
              "      <td>0.000000</td>\n",
              "    </tr>\n",
              "    <tr>\n",
              "      <th>50%</th>\n",
              "      <td>0.000000</td>\n",
              "      <td>33.000000</td>\n",
              "      <td>6.000000</td>\n",
              "      <td>2373.758333</td>\n",
              "      <td>1.000000</td>\n",
              "    </tr>\n",
              "    <tr>\n",
              "      <th>75%</th>\n",
              "      <td>1.000000</td>\n",
              "      <td>55.000000</td>\n",
              "      <td>6.000000</td>\n",
              "      <td>3075.133333</td>\n",
              "      <td>1.000000</td>\n",
              "    </tr>\n",
              "    <tr>\n",
              "      <th>max</th>\n",
              "      <td>1.000000</td>\n",
              "      <td>87.000000</td>\n",
              "      <td>12.000000</td>\n",
              "      <td>28587.000000</td>\n",
              "      <td>1.000000</td>\n",
              "    </tr>\n",
              "  </tbody>\n",
              "</table>\n",
              "</div>"
            ],
            "text/plain": [
              "            target  ...  default_request_term\n",
              "count  1719.000000  ...           1719.000000\n",
              "mean      0.295521  ...              0.507853\n",
              "std       0.456409  ...              0.500084\n",
              "min       0.000000  ...              0.000000\n",
              "25%       0.000000  ...              0.000000\n",
              "50%       0.000000  ...              1.000000\n",
              "75%       1.000000  ...              1.000000\n",
              "max       1.000000  ...              1.000000\n",
              "\n",
              "[8 rows x 5 columns]"
            ]
          },
          "metadata": {
            "tags": []
          },
          "execution_count": 58
        }
      ]
    },
    {
      "cell_type": "code",
      "metadata": {
        "id": "lnPch6muJvzE"
      },
      "source": [
        ""
      ],
      "execution_count": null,
      "outputs": []
    }
  ]
}